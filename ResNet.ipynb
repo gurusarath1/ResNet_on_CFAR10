{
 "cells": [
  {
   "cell_type": "markdown",
   "id": "6bb0398e",
   "metadata": {},
   "source": [
    "# ResNet Learning"
   ]
  },
  {
   "cell_type": "code",
   "execution_count": 1,
   "id": "7d245189",
   "metadata": {},
   "outputs": [
    {
     "name": "stderr",
     "output_type": "stream",
     "text": [
      "C:\\Users\\gurus\\anaconda3\\envs\\Learning_DS_ML_DL\\lib\\site-packages\\tqdm\\auto.py:22: TqdmWarning: IProgress not found. Please update jupyter and ipywidgets. See https://ipywidgets.readthedocs.io/en/stable/user_install.html\n",
      "  from .autonotebook import tqdm as notebook_tqdm\n"
     ]
    }
   ],
   "source": [
    "import torch\n",
    "import torch.nn as nn\n",
    "import torch.nn.functional as F\n",
    "from torch import optim\n",
    "import torchvision.transforms as transforms\n",
    "from PIL import Image\n",
    "from torch.utils.data import DataLoader\n",
    "from torch.utils.data import Dataset\n",
    "\n",
    "from PIL import ImageShow\n",
    "\n",
    "import numpy as np\n",
    "import matplotlib.pyplot as plt\n",
    "import tqdm"
   ]
  },
  {
   "cell_type": "code",
   "execution_count": 2,
   "id": "787d10db",
   "metadata": {},
   "outputs": [
    {
     "name": "stdout",
     "output_type": "stream",
     "text": [
      "cuda\n"
     ]
    }
   ],
   "source": [
    "if torch.cuda.is_available():\n",
    "    device = 'cuda'\n",
    "else:\n",
    "    device = 'cpu'\n",
    "    \n",
    "print(device)"
   ]
  },
  {
   "cell_type": "code",
   "execution_count": 3,
   "id": "29e6a245",
   "metadata": {},
   "outputs": [],
   "source": [
    "# function to read CFAR10 dataset\n",
    "# Obtained from CFAR10 website\n",
    "def unpickle(file):\n",
    "    import pickle\n",
    "    with open(file, 'rb') as fo:\n",
    "        dict = pickle.load(fo, encoding='bytes')\n",
    "    return dict"
   ]
  },
  {
   "cell_type": "code",
   "execution_count": 4,
   "id": "b5fb8a3d",
   "metadata": {},
   "outputs": [],
   "source": [
    "data_set_info = {\n",
    "    'base_dir': './cifar-10-batches-py',\n",
    "    'batch_base_name': 'data_batch_',\n",
    "}\n",
    "\n",
    "model_info = {\n",
    "    'depth':20\n",
    "}\n",
    "\n",
    "training_info = {\n",
    "    'optimizer': 'adam',\n",
    "    'learning_rate': 0.01,\n",
    "    'epochs': 100,\n",
    "}"
   ]
  },
  {
   "cell_type": "code",
   "execution_count": 5,
   "id": "74d0ed83",
   "metadata": {},
   "outputs": [
    {
     "name": "stdout",
     "output_type": "stream",
     "text": [
      "dict_keys([b'num_cases_per_batch', b'label_names', b'num_vis'])\n",
      "10000\n",
      "[b'airplane', b'automobile', b'bird', b'cat', b'deer', b'dog', b'frog', b'horse', b'ship', b'truck']\n",
      "3072\n"
     ]
    }
   ],
   "source": [
    "# Read the meta data file that you get from dataset download\n",
    "\n",
    "meta_data = unpickle(data_set_info['base_dir'] + '/batches.meta' )\n",
    "\n",
    "print(meta_data.keys())\n",
    "print(meta_data[b'num_cases_per_batch'])\n",
    "print(meta_data[b'label_names'])\n",
    "print(meta_data[b'num_vis'])\n",
    "\n",
    "MAX_CFAR10_BATCHES = 5"
   ]
  },
  {
   "cell_type": "code",
   "execution_count": 6,
   "id": "baee422e",
   "metadata": {},
   "outputs": [
    {
     "name": "stdout",
     "output_type": "stream",
     "text": [
      "dict_keys([b'batch_label', b'labels', b'data', b'filenames'])\n",
      "batch shape =  (10000, 3072)\n",
      "label shape =  10000\n"
     ]
    },
    {
     "data": {
      "text/plain": [
       "<matplotlib.image.AxesImage at 0x1865cb81a30>"
      ]
     },
     "execution_count": 6,
     "metadata": {},
     "output_type": "execute_result"
    },
    {
     "data": {
      "image/png": "[encoded data removed]",
      "text/plain": [
       "<Figure size 432x288 with 1 Axes>"
      ]
     },
     "metadata": {
      "needs_background": "light"
     },
     "output_type": "display_data"
    }
   ],
   "source": [
    "# A look at the dataset\n",
    "# Each batch contains 10000 images\n",
    "\n",
    "batch_1 = unpickle(data_set_info['base_dir'] + '/' + data_set_info['batch_base_name'] + str(1))\n",
    "\n",
    "print(batch_1.keys())\n",
    "print('batch shape = ', batch_1[b'data'].shape) # 10000 images; 32x32x3 image size\n",
    "print('label shape = ', len(batch_1[b'labels']) ) # List with 10000 lebels\n",
    "\n",
    "plt.imshow( np.rot90(np.rot90(np.rot90(batch_1[b'data'][30].reshape((3,32,32)).T))) )"
   ]
  },
  {
   "cell_type": "markdown",
   "id": "8cbf3d64",
   "metadata": {},
   "source": [
    "## Create the ResNet network"
   ]
  },
  {
   "cell_type": "code",
   "execution_count": 7,
   "id": "7545d72d",
   "metadata": {},
   "outputs": [],
   "source": [
    "class BasicResBlock(nn.Module):\n",
    "    \n",
    "    def __init__(self, in_channel, downsample):\n",
    "        super(BasicResBlock, self).__init__()\n",
    "        \n",
    "        out_channel = in_channel\n",
    "        self.downsample = downsample\n",
    "        self.stride_conv = (1,1)\n",
    "        self.padding_conv = (1,1)\n",
    "        \n",
    "        if self.downsample:\n",
    "            out_channel = in_channel * 2\n",
    "            self.stride_conv = (2,2)\n",
    "\n",
    "        self.conv1 = nn.Conv2d(in_channel, out_channel, (3, 3), stride=self.stride_conv, padding=self.padding_conv)\n",
    "        self.batch_norm1 = nn.BatchNorm2d(out_channel)\n",
    "        self.relu1 = nn.ReLU()\n",
    "\n",
    "        self.conv2 = nn.Conv2d(out_channel, out_channel, (3, 3), stride=(1, 1), padding=(1, 1))\n",
    "        self.batch_norm2 = nn.BatchNorm2d(out_channel)\n",
    "        self.relu2 = nn.ReLU()\n",
    "        \n",
    "        self.conv1x1 = nn.Conv2d(in_channel, out_channel, (1, 1), stride=self.stride_conv, padding=(0, 0))\n",
    "        self.batch_norm3 = nn.BatchNorm2d(out_channel)\n",
    "        self.relu3 = nn.ReLU()\n",
    "        \n",
    "    def forward(self, x):\n",
    "        out1 = self.conv1(x)\n",
    "        out2 = self.batch_norm1(out1)\n",
    "        out3 = self.relu1(out2)\n",
    "\n",
    "        out4 = self.conv2(out3)\n",
    "        out5 = self.batch_norm2(out4)\n",
    "        \n",
    "        if self.downsample:\n",
    "            #print('1x1 conv applied')\n",
    "            x = self.conv1x1(x)\n",
    "            x = self.batch_norm3(x)\n",
    "            x = self.relu3(x)\n",
    "            \n",
    "        #print('x shape = ', x.shape)\n",
    "        #print('out5 shape = ', out5.shape)\n",
    "        \n",
    "        out6 = self.relu2(out5 + x)\n",
    "        \n",
    "        return out6"
   ]
  },
  {
   "cell_type": "code",
   "execution_count": 8,
   "id": "f928faaf",
   "metadata": {},
   "outputs": [],
   "source": [
    "class ResNet8(nn.Module):\n",
    "    \n",
    "    def __init__(self, depth):\n",
    "        super(ResNet8, self).__init__()\n",
    "        self.depth = depth\n",
    "        pass\n",
    "    \n",
    "    def make_net(self):\n",
    "        \n",
    "        self.net = nn.Sequential()\n",
    "        self.net.add_module('1', BasicResBlock(3,False))\n",
    "        self.net.add_module('2', BasicResBlock(3,False))\n",
    "        self.net.add_module('3', BasicResBlock(3,True))\n",
    "        self.net.add_module('4', BasicResBlock(6,False))\n",
    "        self.net.add_module('5', BasicResBlock(6,False))\n",
    "        self.net.add_module('6', BasicResBlock(6,True))\n",
    "        self.net.add_module('7', BasicResBlock(12,False))\n",
    "        self.net.add_module('8', BasicResBlock(12,True))\n",
    "        self.net.add_module('9', BasicResBlock(24,False))\n",
    "        self.net.add_module('10', BasicResBlock(24,False))\n",
    "        #self.net.add_module('11', nn.AvgPool2d((3,3)))\n",
    "        self.net.add_module('12', nn.Flatten())\n",
    "        self.net.add_module('13', nn.Linear(384,10))\n",
    "        self.net.add_module('14', nn.Softmax(dim=1))\n",
    "        \n",
    "        for m in self.modules():\n",
    "            if isinstance(m, nn.Conv2d):\n",
    "                nn.init.kaiming_normal_(m.weight, mode=\"fan_out\", nonlinearity=\"relu\")\n",
    "            elif isinstance(m, (nn.BatchNorm2d, nn.GroupNorm)):\n",
    "                nn.init.constant_(m.weight, 1)\n",
    "                nn.init.constant_(m.bias, 0)\n",
    "\n",
    "    \n",
    "    def forward(self, x):\n",
    "        return self.net(x)"
   ]
  },
  {
   "cell_type": "code",
   "execution_count": 12,
   "id": "126411ea",
   "metadata": {},
   "outputs": [
    {
     "name": "stdout",
     "output_type": "stream",
     "text": [
      "tensor([[0., 0., 0., 0., 0., 0., 0., 0., 1., 0.]])\n",
      "Number of params in the model 122\n",
      "Shape of output = torch.Size([1, 10])\n"
     ]
    }
   ],
   "source": [
    "# Test the resnet to check the forward prop output\n",
    "with torch.no_grad():\n",
    "    resnet = ResNet8(5)\n",
    "    resnet.make_net()\n",
    "    \n",
    "    resnet.eval()\n",
    "    y = resnet( torch.Tensor(batch_1[b'data'][30].reshape((1,3,32,32))) )\n",
    "    print(y)\n",
    "    params = list(resnet.parameters())\n",
    "    print( 'Number of params in the model {}'.format(len(params)) )\n",
    "    print( 'Shape of output = {}'.format(y.shape) ) # (batch size, 10 output classes)"
   ]
  },
  {
   "cell_type": "markdown",
   "id": "c26c2f5d",
   "metadata": {},
   "source": [
    "## Create the CFAR10 Dataset class"
   ]
  },
  {
   "cell_type": "code",
   "execution_count": 17,
   "id": "df7029fd",
   "metadata": {},
   "outputs": [],
   "source": [
    "class CFAR10_DATASET(Dataset):\n",
    "\n",
    "    def __init__(self, batch_idx=1, transform=None, device='cpu'):\n",
    "        self.batch_file_path = data_set_info['base_dir'] + '/' + data_set_info['batch_base_name'] + str(batch_idx)\n",
    "        self.num_classes = 10 #CFAR10 for a reason\n",
    "        self.transform = transform\n",
    "        self.device = device\n",
    "        \n",
    "        self.batch_ = self.unpickle(self.batch_file_path)\n",
    "        self.batch_x_images = torch.Tensor(  self.batch_[b'data'].reshape((10000,3,32,32))  ).to(device) #10000 images 3 channels\n",
    "        self.batch_y_labels = self.batch_[b'labels']\n",
    "        \n",
    "    def unpickle(self, file):\n",
    "        import pickle\n",
    "        with open(file, 'rb') as fo:\n",
    "            dict = pickle.load(fo, encoding='bytes')\n",
    "        return dict\n",
    "\n",
    "    def __getitem__(self, index):\n",
    "        \n",
    "        img = self.batch_x_images[index]\n",
    "\n",
    "        if self.transform is not None:\n",
    "            img = self.transform(img)\n",
    "\n",
    "        label_onehot = F.one_hot( torch.tensor(self.batch_y_labels[index], dtype=torch.int64) , self.num_classes )\n",
    "\n",
    "        return img, label_onehot.to(torch.float32).to(self.device)\n",
    "\n",
    "    def __len__(self):\n",
    "\n",
    "        return self.batch_[b'data'].shape[0]\n",
    "\n"
   ]
  },
  {
   "cell_type": "code",
   "execution_count": 13,
   "id": "7679bff9",
   "metadata": {},
   "outputs": [
    {
     "data": {
      "text/plain": [
       "ResNet8(\n",
       "  (net): Sequential(\n",
       "    (1): BasicResBlock(\n",
       "      (conv1): Conv2d(3, 3, kernel_size=(3, 3), stride=(1, 1), padding=(1, 1))\n",
       "      (batch_norm1): BatchNorm2d(3, eps=1e-05, momentum=0.1, affine=True, track_running_stats=True)\n",
       "      (relu1): ReLU()\n",
       "      (conv2): Conv2d(3, 3, kernel_size=(3, 3), stride=(1, 1), padding=(1, 1))\n",
       "      (batch_norm2): BatchNorm2d(3, eps=1e-05, momentum=0.1, affine=True, track_running_stats=True)\n",
       "      (relu2): ReLU()\n",
       "      (conv1x1): Conv2d(3, 3, kernel_size=(1, 1), stride=(1, 1))\n",
       "      (batch_norm3): BatchNorm2d(3, eps=1e-05, momentum=0.1, affine=True, track_running_stats=True)\n",
       "      (relu3): ReLU()\n",
       "    )\n",
       "    (2): BasicResBlock(\n",
       "      (conv1): Conv2d(3, 3, kernel_size=(3, 3), stride=(1, 1), padding=(1, 1))\n",
       "      (batch_norm1): BatchNorm2d(3, eps=1e-05, momentum=0.1, affine=True, track_running_stats=True)\n",
       "      (relu1): ReLU()\n",
       "      (conv2): Conv2d(3, 3, kernel_size=(3, 3), stride=(1, 1), padding=(1, 1))\n",
       "      (batch_norm2): BatchNorm2d(3, eps=1e-05, momentum=0.1, affine=True, track_running_stats=True)\n",
       "      (relu2): ReLU()\n",
       "      (conv1x1): Conv2d(3, 3, kernel_size=(1, 1), stride=(1, 1))\n",
       "      (batch_norm3): BatchNorm2d(3, eps=1e-05, momentum=0.1, affine=True, track_running_stats=True)\n",
       "      (relu3): ReLU()\n",
       "    )\n",
       "    (3): BasicResBlock(\n",
       "      (conv1): Conv2d(3, 6, kernel_size=(3, 3), stride=(2, 2), padding=(1, 1))\n",
       "      (batch_norm1): BatchNorm2d(6, eps=1e-05, momentum=0.1, affine=True, track_running_stats=True)\n",
       "      (relu1): ReLU()\n",
       "      (conv2): Conv2d(6, 6, kernel_size=(3, 3), stride=(1, 1), padding=(1, 1))\n",
       "      (batch_norm2): BatchNorm2d(6, eps=1e-05, momentum=0.1, affine=True, track_running_stats=True)\n",
       "      (relu2): ReLU()\n",
       "      (conv1x1): Conv2d(3, 6, kernel_size=(1, 1), stride=(2, 2))\n",
       "      (batch_norm3): BatchNorm2d(6, eps=1e-05, momentum=0.1, affine=True, track_running_stats=True)\n",
       "      (relu3): ReLU()\n",
       "    )\n",
       "    (4): BasicResBlock(\n",
       "      (conv1): Conv2d(6, 6, kernel_size=(3, 3), stride=(1, 1), padding=(1, 1))\n",
       "      (batch_norm1): BatchNorm2d(6, eps=1e-05, momentum=0.1, affine=True, track_running_stats=True)\n",
       "      (relu1): ReLU()\n",
       "      (conv2): Conv2d(6, 6, kernel_size=(3, 3), stride=(1, 1), padding=(1, 1))\n",
       "      (batch_norm2): BatchNorm2d(6, eps=1e-05, momentum=0.1, affine=True, track_running_stats=True)\n",
       "      (relu2): ReLU()\n",
       "      (conv1x1): Conv2d(6, 6, kernel_size=(1, 1), stride=(1, 1))\n",
       "      (batch_norm3): BatchNorm2d(6, eps=1e-05, momentum=0.1, affine=True, track_running_stats=True)\n",
       "      (relu3): ReLU()\n",
       "    )\n",
       "    (5): BasicResBlock(\n",
       "      (conv1): Conv2d(6, 6, kernel_size=(3, 3), stride=(1, 1), padding=(1, 1))\n",
       "      (batch_norm1): BatchNorm2d(6, eps=1e-05, momentum=0.1, affine=True, track_running_stats=True)\n",
       "      (relu1): ReLU()\n",
       "      (conv2): Conv2d(6, 6, kernel_size=(3, 3), stride=(1, 1), padding=(1, 1))\n",
       "      (batch_norm2): BatchNorm2d(6, eps=1e-05, momentum=0.1, affine=True, track_running_stats=True)\n",
       "      (relu2): ReLU()\n",
       "      (conv1x1): Conv2d(6, 6, kernel_size=(1, 1), stride=(1, 1))\n",
       "      (batch_norm3): BatchNorm2d(6, eps=1e-05, momentum=0.1, affine=True, track_running_stats=True)\n",
       "      (relu3): ReLU()\n",
       "    )\n",
       "    (6): BasicResBlock(\n",
       "      (conv1): Conv2d(6, 12, kernel_size=(3, 3), stride=(2, 2), padding=(1, 1))\n",
       "      (batch_norm1): BatchNorm2d(12, eps=1e-05, momentum=0.1, affine=True, track_running_stats=True)\n",
       "      (relu1): ReLU()\n",
       "      (conv2): Conv2d(12, 12, kernel_size=(3, 3), stride=(1, 1), padding=(1, 1))\n",
       "      (batch_norm2): BatchNorm2d(12, eps=1e-05, momentum=0.1, affine=True, track_running_stats=True)\n",
       "      (relu2): ReLU()\n",
       "      (conv1x1): Conv2d(6, 12, kernel_size=(1, 1), stride=(2, 2))\n",
       "      (batch_norm3): BatchNorm2d(12, eps=1e-05, momentum=0.1, affine=True, track_running_stats=True)\n",
       "      (relu3): ReLU()\n",
       "    )\n",
       "    (7): BasicResBlock(\n",
       "      (conv1): Conv2d(12, 12, kernel_size=(3, 3), stride=(1, 1), padding=(1, 1))\n",
       "      (batch_norm1): BatchNorm2d(12, eps=1e-05, momentum=0.1, affine=True, track_running_stats=True)\n",
       "      (relu1): ReLU()\n",
       "      (conv2): Conv2d(12, 12, kernel_size=(3, 3), stride=(1, 1), padding=(1, 1))\n",
       "      (batch_norm2): BatchNorm2d(12, eps=1e-05, momentum=0.1, affine=True, track_running_stats=True)\n",
       "      (relu2): ReLU()\n",
       "      (conv1x1): Conv2d(12, 12, kernel_size=(1, 1), stride=(1, 1))\n",
       "      (batch_norm3): BatchNorm2d(12, eps=1e-05, momentum=0.1, affine=True, track_running_stats=True)\n",
       "      (relu3): ReLU()\n",
       "    )\n",
       "    (8): BasicResBlock(\n",
       "      (conv1): Conv2d(12, 24, kernel_size=(3, 3), stride=(2, 2), padding=(1, 1))\n",
       "      (batch_norm1): BatchNorm2d(24, eps=1e-05, momentum=0.1, affine=True, track_running_stats=True)\n",
       "      (relu1): ReLU()\n",
       "      (conv2): Conv2d(24, 24, kernel_size=(3, 3), stride=(1, 1), padding=(1, 1))\n",
       "      (batch_norm2): BatchNorm2d(24, eps=1e-05, momentum=0.1, affine=True, track_running_stats=True)\n",
       "      (relu2): ReLU()\n",
       "      (conv1x1): Conv2d(12, 24, kernel_size=(1, 1), stride=(2, 2))\n",
       "      (batch_norm3): BatchNorm2d(24, eps=1e-05, momentum=0.1, affine=True, track_running_stats=True)\n",
       "      (relu3): ReLU()\n",
       "    )\n",
       "    (9): BasicResBlock(\n",
       "      (conv1): Conv2d(24, 24, kernel_size=(3, 3), stride=(1, 1), padding=(1, 1))\n",
       "      (batch_norm1): BatchNorm2d(24, eps=1e-05, momentum=0.1, affine=True, track_running_stats=True)\n",
       "      (relu1): ReLU()\n",
       "      (conv2): Conv2d(24, 24, kernel_size=(3, 3), stride=(1, 1), padding=(1, 1))\n",
       "      (batch_norm2): BatchNorm2d(24, eps=1e-05, momentum=0.1, affine=True, track_running_stats=True)\n",
       "      (relu2): ReLU()\n",
       "      (conv1x1): Conv2d(24, 24, kernel_size=(1, 1), stride=(1, 1))\n",
       "      (batch_norm3): BatchNorm2d(24, eps=1e-05, momentum=0.1, affine=True, track_running_stats=True)\n",
       "      (relu3): ReLU()\n",
       "    )\n",
       "    (10): BasicResBlock(\n",
       "      (conv1): Conv2d(24, 24, kernel_size=(3, 3), stride=(1, 1), padding=(1, 1))\n",
       "      (batch_norm1): BatchNorm2d(24, eps=1e-05, momentum=0.1, affine=True, track_running_stats=True)\n",
       "      (relu1): ReLU()\n",
       "      (conv2): Conv2d(24, 24, kernel_size=(3, 3), stride=(1, 1), padding=(1, 1))\n",
       "      (batch_norm2): BatchNorm2d(24, eps=1e-05, momentum=0.1, affine=True, track_running_stats=True)\n",
       "      (relu2): ReLU()\n",
       "      (conv1x1): Conv2d(24, 24, kernel_size=(1, 1), stride=(1, 1))\n",
       "      (batch_norm3): BatchNorm2d(24, eps=1e-05, momentum=0.1, affine=True, track_running_stats=True)\n",
       "      (relu3): ReLU()\n",
       "    )\n",
       "    (12): Flatten(start_dim=1, end_dim=-1)\n",
       "    (13): Linear(in_features=384, out_features=10, bias=True)\n",
       "    (14): Softmax(dim=1)\n",
       "  )\n",
       ")"
      ]
     },
     "execution_count": 13,
     "metadata": {},
     "output_type": "execute_result"
    }
   ],
   "source": [
    "# Move the network to gpu (if present)\n",
    "resnet.to(device)"
   ]
  },
  {
   "cell_type": "code",
   "execution_count": 14,
   "id": "5e745c35",
   "metadata": {},
   "outputs": [],
   "source": [
    "#Loss function\n",
    "criterion = nn.CrossEntropyLoss()\n",
    "\n",
    "# Optimizer\n",
    "# resnet.parameters() contains all the learnable parameters of the network\n",
    "#optimizer = optim.SGD(resnet.parameters(), lr=0.001)\n",
    "optimizer = optim.Adam(resnet.parameters(), lr=0.0001)\n",
    "optimizer.zero_grad()\n",
    "\n",
    "# History of loss\n",
    "losses = []"
   ]
  },
  {
   "cell_type": "code",
   "execution_count": 15,
   "id": "8a1b642a",
   "metadata": {},
   "outputs": [
    {
     "name": "stdout",
     "output_type": "stream",
     "text": [
      "dict_keys([b'batch_label', b'labels', b'data', b'filenames'])\n"
     ]
    }
   ],
   "source": [
    "# Test Batch to check the testing accuracy\n",
    "test_batch = unpickle(data_set_info['base_dir'] + '/test_batch' )\n",
    "print(test_batch.keys())\n",
    "test_batch[b'data'].shape\n",
    "test_batch_tensor = torch.Tensor(test_batch[b'data'].reshape(10000,3,32,32)).to(device)"
   ]
  },
  {
   "cell_type": "code",
   "execution_count": 19,
   "id": "bd2198f4",
   "metadata": {},
   "outputs": [
    {
     "name": "stdout",
     "output_type": "stream",
     "text": [
      "Epoch  0   --------------------\n",
      "Test corrects =  tensor(4409, device='cuda:0')\n",
      "Test corrects =  tensor(4416, device='cuda:0')\n"
     ]
    },
    {
     "ename": "KeyboardInterrupt",
     "evalue": "",
     "output_type": "error",
     "traceback": [
      "\u001b[1;31m---------------------------------------------------------------------------\u001b[0m",
      "\u001b[1;31mKeyboardInterrupt\u001b[0m                         Traceback (most recent call last)",
      "Input \u001b[1;32mIn [19]\u001b[0m, in \u001b[0;36m<cell line: 1>\u001b[1;34m()\u001b[0m\n\u001b[0;32m     39\u001b[0m test_preds \u001b[38;5;241m=\u001b[39m torch\u001b[38;5;241m.\u001b[39margmax(test_preds, dim\u001b[38;5;241m=\u001b[39m\u001b[38;5;241m1\u001b[39m)\n\u001b[0;32m     40\u001b[0m \u001b[38;5;66;03m#print(test_preds.shape)\u001b[39;00m\n\u001b[1;32m---> 41\u001b[0m expected_preds \u001b[38;5;241m=\u001b[39m \u001b[43mtorch\u001b[49m\u001b[38;5;241;43m.\u001b[39;49m\u001b[43mTensor\u001b[49m\u001b[43m(\u001b[49m\u001b[43mtest_batch\u001b[49m\u001b[43m[\u001b[49m\u001b[38;5;124;43mb\u001b[39;49m\u001b[38;5;124;43m'\u001b[39;49m\u001b[38;5;124;43mlabels\u001b[39;49m\u001b[38;5;124;43m'\u001b[39;49m\u001b[43m]\u001b[49m\u001b[43m)\u001b[49m\u001b[38;5;241;43m.\u001b[39;49m\u001b[43mto\u001b[49m\u001b[43m(\u001b[49m\u001b[43mdevice\u001b[49m\u001b[43m)\u001b[49m\n\u001b[0;32m     42\u001b[0m \u001b[38;5;66;03m#print(expected_preds.shape)\u001b[39;00m\n\u001b[0;32m     43\u001b[0m acc \u001b[38;5;241m=\u001b[39m (test_preds \u001b[38;5;241m==\u001b[39m expected_preds)\u001b[38;5;241m.\u001b[39msum()\n",
      "\u001b[1;31mKeyboardInterrupt\u001b[0m: "
     ]
    }
   ],
   "source": [
    "\n",
    "for epoch in (range(training_info['epochs'])):\n",
    "    print('Epoch ', epoch,'  --------------------')\n",
    "    \n",
    "    for b in range(1,MAX_CFAR10_BATCHES+1):\n",
    "        #create dataset\n",
    "        cfar10_dataset_batch_b = CFAR10_DATASET(batch_idx=b, device=device)\n",
    "        # Create DataLoader\n",
    "        train_data_loader = DataLoader(cfar10_dataset_batch_b, batch_size=250, drop_last=False, shuffle=True)\n",
    "        \n",
    "        # Training loop ----------\n",
    "        is_correct = 0\n",
    "        for i,batch in enumerate(train_data_loader):\n",
    "            x = batch[0]\n",
    "            y = batch[1]\n",
    "\n",
    "            # Make sure batch norm, drop out layers etc., are in training mode\n",
    "            resnet.train()\n",
    "            # zero the gradient buffers\n",
    "            optimizer.zero_grad()\n",
    "            \n",
    "            output = resnet(x)\n",
    "            loss = criterion(output, y)\n",
    "            \n",
    "            #Calculate grads\n",
    "            loss.backward()\n",
    "            #Update weights\n",
    "            optimizer.step() \n",
    "\n",
    "            # Set the model to evaluation mode while running through test dataset\n",
    "            resnet.eval()\n",
    "            # Do need to run gradient computation\n",
    "            with torch.no_grad():\n",
    "                #print('Loss = ', loss.item())\n",
    "                losses.append(loss.item())\n",
    "                is_correct += ( torch.argmax(y, dim=1) == torch.argmax(output, dim=1) ).sum()\n",
    "                \n",
    "                test_preds = resnet(test_batch_tensor)\n",
    "                #print(test_preds.shape)\n",
    "                test_preds = torch.argmax(test_preds, dim=1)\n",
    "                #print(test_preds.shape)\n",
    "                expected_preds = torch.Tensor(test_batch[b'labels']).to(device)\n",
    "                #print(expected_preds.shape)\n",
    "                acc = (test_preds == expected_preds).sum()\n",
    "                print('Test corrects = ', acc)\n",
    "                \n",
    "        print(is_correct)"
   ]
  },
  {
   "cell_type": "code",
   "execution_count": 20,
   "id": "e69002ca",
   "metadata": {},
   "outputs": [
    {
     "data": {
      "text/plain": [
       "[<matplotlib.lines.Line2D at 0x1861025d490>]"
      ]
     },
     "execution_count": 20,
     "metadata": {},
     "output_type": "execute_result"
    },
    {
     "data": {
      "image/png": "[encoded data removed]",
      "text/plain": [
       "<Figure size 432x288 with 1 Axes>"
      ]
     },
     "metadata": {
      "needs_background": "light"
     },
     "output_type": "display_data"
    }
   ],
   "source": [
    "plt.plot(losses)"
   ]
  },
  {
   "cell_type": "code",
   "execution_count": null,
   "id": "1e44c175",
   "metadata": {},
   "outputs": [],
   "source": [
    "\n"
   ]
  }
 ],
 "metadata": {
  "kernelspec": {
   "display_name": "Python 3 (ipykernel)",
   "language": "python",
   "name": "python3"
  },
  "language_info": {
   "codemirror_mode": {
    "name": "ipython",
    "version": 3
   },
   "file_extension": ".py",
   "mimetype": "text/x-python",
   "name": "python",
   "nbconvert_exporter": "python",
   "pygments_lexer": "ipython3",
   "version": "3.9.12"
  }
 },
 "nbformat": 4,
 "nbformat_minor": 5
}
